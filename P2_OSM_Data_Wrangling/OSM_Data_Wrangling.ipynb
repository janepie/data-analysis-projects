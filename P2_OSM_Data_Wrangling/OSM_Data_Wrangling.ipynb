{
 "cells": [
  {
   "cell_type": "markdown",
   "metadata": {},
   "source": [
    "# Project: Open Street Map Data Wrangling\n",
    "\n",
    "\n",
    "## Table of Contents\n",
    "<ul>\n",
    "<li><a href=\"#area\">Map Area</a></li>\n",
    "<li><a href=\"#transf\">Data Transformation</a></li>\n",
    "<li><a href=\"#check\">Data check and cleaning</a></li>\n",
    "<li><a href=\"#overview\">Data overview</a></li>\n",
    "<li><a href=\"#better\">How to get better data</a></li>\n",
    "<li><a href=\"#explo\">Data exploration</a></li>\n",
    "<li><a href=\"#conclusions\">Conclusions</a></li>\n",
    "</ul>"
   ]
  },
  {
   "cell_type": "markdown",
   "metadata": {},
   "source": [
    "<a id='area'></a>\n",
    "## Map Area\n",
    "\n",
    "I chose the area of my hometown Hamburg as I am interested in the quality of the data I use daily for navigation purposes.\n",
    "As I live a bit out of the city, I included my home area with the city Stade in my data extract.\n",
    "\n",
    "Location:\n",
    "- latitude 9.4235 - 10.3354\n",
    "- longitude 53.3915 - 53.7422\n",
    "\n",
    "Overpass Link: https://overpass-api.de/api/map?bbox=9.4235,53.3915,10.3354,53.7422\n",
    "\n",
    "<br>\n",
    "\n",
    "![Map Area](img/map_area.png)\n",
    "\n",
    "<br> "
   ]
  },
  {
   "cell_type": "markdown",
   "metadata": {},
   "source": [
    "<a id='transf'></a>\n",
    "## Data Transformation\n",
    "\n",
    "I start by converting the data first into different csv files and then to an SQLite database as shown in the Nanodegree lessons. I had to adapt the code as I chose to use Python 3 (Python 2 is no longer supported since beginning of the year), the code I used is in the files xml_to_csv.py and csv_to_sql.py."
   ]
  },
  {
   "cell_type": "markdown",
   "metadata": {},
   "source": [
    "<a id='check'></a>\n",
    "## Data check and cleaning\n",
    "\n",
    "I started to do some queries on the database to get a feeling for the data. When checking the keys of the tag tables, I noticed that the addresses have not always been entered correctly, for example for the postal codes there were 4 different keys:\n",
    "* addr:postcode\n",
    "* postal_code\n",
    "* postal_codes\n",
    "* postcode\n",
    "\n",
    "and some addresses were entered in only one tag with the key 'addr'.\n",
    "\n",
    "The correct way to enter the address is described in the [OpenStreetMap Wiki](https://wiki.openstreetmap.org/wiki/Key:addr), so I will correct all addresses to match this.\n",
    "Tags like 'addr:postcode' should be splitted to key 'postcode' and type 'addr' by the script, so here there seem to be more than two parts in the key of the tag. I checked the types of these keys:\n",
    "\n",
    "```\n",
    "select type, count(*) from nodes_tags where key='addr:postcode' group by type;\n",
    "```\n",
    "construction|1  \n",
    "demolished|2  \n",
    "memorial|1086\n",
    "\n",
    "So there is more information mixed in these tags.\n",
    "\n",
    "\n",
    "I want to include all extra information in the type and only have the last description in the key, so I will change the code so that it only uses the part after the last colon with using [rsplit](https://stackoverflow.com/questions/15012228/splitting-on-last-delimiter-in-python-string):\n",
    "```\n",
    "if ':' in key:\n",
    "    tag_dict['key'] = key.rsplit(\":\", 1)[1]\n",
    "    tag_dict['type'] = key.rsplit(\":\", 1)[0]\n",
    "```\n",
    "For the others, I added a dictionary to check for wrong writings and change the key:\n",
    "```\n",
    "BETTER_KEYS = {\n",
    "        'postal_code': 'postcode',\n",
    "        'postal_codes': 'postcode',\n",
    "        'streetnumber': 'housenumber'\n",
    "        }\n",
    "```\n",
    "In def handle_tags():\n",
    "```\n",
    "if tag_dict['key'] in BETTER_KEYS:\n",
    "    tag_dict['key'] = BETTER_KEYS[tag_dict['key']]\n",
    "```\n",
    "\n",
    "\n",
    "There is one node with the keys 'housenumber_1' and 'street_1':\n",
    "```\n",
    "SELECT * FROM nodes_tags \n",
    "    JOIN (SELECT DISTINCT(id) FROM nodes_tags where key='housenumber_1') i\n",
    "    ON nodes_tags.id=i.id;\n",
    "```\n",
    "4534983336|access|private|regular|4534983336  \n",
    "4534983336|city|Hamburg|addr|4534983336  \n",
    "4534983336|country|DE|addr|4534983336  \n",
    "4534983336|housenumber|45a|addr|4534983336  \n",
    "4534983336|housenumber_1|18|addr|4534983336  \n",
    "4534983336|postcode|20355|addr|4534983336  \n",
    "4534983336|street|Valentinskamp|addr|4534983336  \n",
    "4534983336|street_1|Bäckerbreitergang|addr|4534983336  \n",
    "4534983336|barrier|gate|regular|4534983336  \n",
    "4534983336|entrance|yes|regular|4534983336  \n",
    "\n",
    "As [discussed in the OSM Wiki](https://wiki.openstreetmap.org/wiki/Talk:Proposed_Features/addrN), there is no common way to enter two addresses for a node. It is only one node, so I will leave it as it is.\n",
    "\n",
    "Now some tags have the key 'addr'.\n",
    "In ways_tags, these are no addresses, but more comments: \n",
    "```\n",
    " select * from ways_tags where key='addr';\n",
    "```\n",
    "19750551|addr|http://www.luftwaffe.de/portal/poc/luftwaffe?uri=ci:bw.lw.org.ausb.uslw.kont|source  \n",
    "25056340|addr|survey|source  \n",
    "55131758|addr|dieses Gebäude hat tatsächlich die gleiche Hausnummer wie das vorne an der Straße, ist kein Fehler|note  \n",
    "372297938|addr|380 steht am Eingang der Tankstelle|note\n",
    "\n",
    "There is nothing important in these tags, so I can drop them.\n",
    "\n",
    "For nodes_tags, it has the address in one value. I need to split these up in their parts and add a tag for each of these. There is not always all information included, so I need to find out which are there and which not. Some of them include a comma. If there is one, the first includes the street and sometimes the housenumber. The second one is the city and sometimes the postcode. If there is no comma, it is only the first part ( checked with `select * from nodes_tags where key='addr' and value not like '%,%';` ).\n",
    "To check if housenumber or postcode are included, I will use RegEx. As some nodes have the address both in one and in more tags, I need to check to not make duplicates.\n",
    "I wrote a new function for this: \n",
    "```\n",
    "def split_address(tag_dict):\n",
    "    '''\n",
    "    splits one tag with key 'addr' in its single parts and creates a dict\n",
    "    for each of them\n",
    "    '''\n",
    "    tags = []\n",
    "    tag_dict['type'] = tag_dict['type'] + ':addr' # set tag type \n",
    "    addr_list = tag_dict['value'].split(',')\n",
    "    # first: part one, street and housenumber\n",
    "    if re.search(r'\\d+', addr_list[0]) != None and ' ' in addr_list[0]: # checks if housenumber included and handles bad Unicode exception \n",
    "        # last part is housenumber, rest street\n",
    "        housenumber = addr_list[0].rsplit(' ', 1)[1]\n",
    "        housenumber_dict = tag_dict\n",
    "        housenumber_dict['key'] = 'housenumber'\n",
    "        housenumber_dict['value'] = housenumber\n",
    "        if housenumber_dict not in tags: #check for duplicates\n",
    "            tags.append(housenumber_dict)\n",
    "                        \n",
    "        street = addr_list[0].rsplit(' ', 1)[0]\n",
    "        \n",
    "    else:\n",
    "        street = addr_list[0]\n",
    "        if '/' in street:\n",
    "            street = street.split('/')[0] # handles bad Unicode exception\n",
    "        \n",
    "    street_dict = tag_dict\n",
    "    street_dict['key'] = 'street'\n",
    "    street_dict['value'] = street\n",
    "    if street_dict not in tags:\n",
    "        tags.append(street_dict)\n",
    "               \n",
    "    if len(addr_list) == 2: # True when there has been a comma \n",
    "        if re.search(r'\\d+', addr_list[1]) != None: # checks if postcode included\n",
    "            # first part is postcode, second the city\n",
    "            postcode = addr_list[1].split(' ', 1)[0]\n",
    "            postcode_dict = tag_dict\n",
    "            postcode_dict['key'] = 'postcode'\n",
    "            postcode_dict['value'] = postcode\n",
    "            if postcode_dict not in tags:\n",
    "                tags.append(postcode_dict)\n",
    "                        \n",
    "            city = addr_list[1].rsplit(' ', 1)[1]\n",
    "            \n",
    "        else:\n",
    "            city = addr_list[1]\n",
    "        \n",
    "        city_dict = tag_dict\n",
    "        city_dict['key'] = 'city'\n",
    "        street_dict['value'] = city\n",
    "        if city_dict not in tags:\n",
    "            tags.append(city_dict)\n",
    "    return tags\n",
    "``` \n",
    "\n",
    "With this code added, I update the csv's and the database."
   ]
  },
  {
   "cell_type": "markdown",
   "metadata": {},
   "source": [
    "<a id='overview'></a>\n",
    "## Data overview\n",
    "\n",
    "\n",
    "\n",
    "\n",
    "\n",
    "#### Data size\n",
    "\n",
    "| File      | Size in MB |\n",
    "| ----------- | ----------- |\n",
    "| map_hamburg_stade.osm      | 1060       |\n",
    "| nodes.csv   | 337        | \n",
    "| nodes_tags.csv   | 35        |\n",
    "| ways.csv   | 45        |\n",
    "| ways_nodes.csv   | 129        |\n",
    "| ways_tags.csv   | 91       |\n",
    "| OSM_Hamburg_Stade.   | 558  |\n",
    "\n",
    "\n",
    "#### Number of nodes\n",
    "\n",
    "```\n",
    "sqlite> select count(*) from nodes;\n",
    "```\n",
    "4284263\n",
    "\n",
    "\n",
    "#### Number of ways\n",
    "\n",
    "```\n",
    "sqlite> select count(*) from ways;\n",
    "```\n",
    "792954\n",
    "\n",
    "\n",
    "#### Number of unique users\n",
    "\n",
    "sqlite> select count(distinct(unionized.uid))          \n",
    "from (select uid from nodes union all select uid from ways) as unionized;\n",
    "5212\n",
    "\n",
    "\n",
    "#### Top 10 contributing users\n",
    "\n",
    "```\n",
    "sqlite> select unionized.user, count(*)          \n",
    "from (select user from nodes union all select user from ways) as unionized\n",
    "group by unionized.user order by count (*) desc limit 10;\n",
    "```\n",
    "\n",
    "| Username      | Contributions |\n",
    "| ----------- | ----------- |\n",
    "|svbr|292169|\n",
    "|4Ems|217762|\n",
    "|Abendstund|202924|\n",
    "|ma-rt-in|196830|\n",
    "|jbhh12|158875|\n",
    "|fahrrad|158205|\n",
    "|vademecum|141330|\n",
    "|streele|136943|\n",
    "|sundew|136445|\n",
    "|simlox|132451|\n",
    "\n",
    "\n",
    "\n",
    "#### Number of users appearing only once (having 1 post)\n",
    "```\n",
    "sqlite> select count(*) FROM\n",
    "\t(select unionized.user, count(*)          \n",
    "\tfrom (select user from nodes union all select user from ways) as unionized\n",
    "\tgroup by unionized.user having count(*)=1)\n",
    ";\n",
    "```\n",
    "1102"
   ]
  },
  {
   "cell_type": "markdown",
   "metadata": {},
   "source": [
    "<a id='better'></a>\n",
    "## How to get better data\n",
    "\n",
    "As the top contributing user made only ca. 6 % of all contributions, there seem to be many big contributors for this area, but there are also many contributors making only one contribution. \n",
    "In the data cleaning, it was obvious that some data is already available, but formatted wrong. To get an improvement here, I think it would help to have an automated checking of the data and then providing suggestions to users where they can check and correct data. Also missing data could be included here if there is obviously or maybe something missing.\n",
    "With this, one-time users could be encouraged to continue with contributions if the editor provides them with suggestions what to check in the vicinity of their already made contribution(s). \n",
    "\n",
    "Furthermore, I think the android app [Vespucci](https://wiki.openstreetmap.org/wiki/Vespucci) should be advertised more prominently as you can use this on the go, so you can walk around and directly editing the data you are literally standing on. Here it would also be good to show corrupted or missing data directly in the map so I can go there and have a look for the reality.\n",
    "\n",
    "The problem with showing problematic or missing data is that not all problems are detectable automatically as there are mistakes not visible in data structure. These will go unnoticed. \n",
    "Another point is that sometimes the world does not fit in a clearly defined structure and there will be data outside of normality that is indeed correct. With an automated problem finder, this will always be marked as a mistake where it is not.\n",
    "Also with the worldwide target group of OSM, language and culture difficulties come up (addresses are noted different ways in different countries), so the problem finder system will be immensely difficult.\n",
    "This shows that it should definitely not correct the findings automatically, there should always be a human involved. Also, be aware that not all findings will be mistakes and not all mistakes will be findings."
   ]
  },
  {
   "cell_type": "markdown",
   "metadata": {},
   "source": [
    "<a id='explo'></a>\n",
    "## Data Exploration\n",
    "\n",
    "#### Spreading of defibrillators in the city"
   ]
  },
  {
   "cell_type": "code",
   "execution_count": 1,
   "metadata": {
    "collapsed": false
   },
   "outputs": [],
   "source": [
    "import sqlite3, pandas, matplotlib.pyplot as plt, seaborn as sns\n",
    "db = sqlite3.connect(\"OSM_Hamburg_Stade.db\")"
   ]
  },
  {
   "cell_type": "code",
   "execution_count": 2,
   "metadata": {
    "collapsed": false
   },
   "outputs": [
    {
     "data": {
      "text/plain": [
       "<matplotlib.collections.PathCollection at 0x1d2edff1400>"
      ]
     },
     "execution_count": 2,
     "metadata": {},
     "output_type": "execute_result"
    },
    {
     "data": {
      "image/png": "[encoded data removed]",
      "text/plain": [
       "<matplotlib.figure.Figure at 0x1d2f1f98630>"
      ]
     },
     "metadata": {},
     "output_type": "display_data"
    }
   ],
   "source": [
    "query = \"select nodes.id, nodes.lat, nodes.lon from nodes_tags, nodes where nodes_tags.id = nodes.id and nodes_tags.value='defibrillator';\"\n",
    "\n",
    "defibrillators_df = pandas.read_sql(query, db)\n",
    "% matplotlib inline\n",
    "plt.scatter(x = defibrillators_df['lat'], y= defibrillators_df['lon'])"
   ]
  },
  {
   "cell_type": "markdown",
   "metadata": {},
   "source": [
    "The distribution of defibrillators seems rather skewed as there are large areas without any. I don't think this projects reality as most smaller villages get a defibrillator in public buildings. Here seems to be data missing. I think this is critical data as in an emergency, a life can depend on if a person finds the next defibrillator or not. \n",
    "If this is indeed reality, there should be more defibrillators regularly distributed."
   ]
  },
  {
   "cell_type": "markdown",
   "metadata": {},
   "source": [
    "#### Top 5 shops\n",
    "\n",
    "```\n",
    "select value, count(*) from nodes_tags where key='shop' group by value order by count(*) desc limit 5;\n",
    "```\n",
    "| Kind of shop | number of occurences | \n",
    "|---|---|\n",
    "|hairdresser|928| \n",
    "|clothes|923| \n",
    "|bakery|842| \n",
    "|supermarket|568| \n",
    "|kiosk|471| \n",
    "\n",
    "People in this area seem to have a really strong hairgrowth."
   ]
  },
  {
   "cell_type": "markdown",
   "metadata": {},
   "source": [
    "#### Accessibility of toilets\n",
    "\n",
    "```\n",
    "select nodes_tags.value, count(*) from nodes_tags \n",
    "    join (select distinct(id) from nodes_tags where key='toilets') reduced\n",
    "    ON nodes_tags.id=reduced.id\n",
    "where nodes_tags.key ='wheelchair'\n",
    "group by nodes_tags.value order by count(*) desc;\n",
    "```\n",
    "\n",
    "| Wheelchair accessible | number of occurences | \n",
    "|---|---|\n",
    "|yes|27|\n",
    "|limited|10|\n",
    "|no|10|\n",
    "|designated|1|\n",
    "\n",
    "There are not many toilets marked as wheelchair accessible or not. This could be better to provide a chance to find accessible toilets for wheelchair users."
   ]
  },
  {
   "cell_type": "markdown",
   "metadata": {},
   "source": [
    "<a id='conclusions'></a>\n",
    "## Conclusions\n",
    "\n",
    "There is much information in Openstreetmap data and it is very good to work with. Unfortunately part of the data is not in a good shape and needs to be cleaned. Here, automatized checks could help a lot to show corrupt data and find missing information. The user should be helped by software."
   ]
  },
  {
   "cell_type": "code",
   "execution_count": 3,
   "metadata": {
    "collapsed": true
   },
   "outputs": [],
   "source": [
    "db.close()"
   ]
  },
  {
   "cell_type": "code",
   "execution_count": null,
   "metadata": {
    "collapsed": true
   },
   "outputs": [],
   "source": []
  }
 ],
 "metadata": {
  "kernelspec": {
   "display_name": "Python 3",
   "language": "python",
   "name": "python3"
  },
  "language_info": {
   "codemirror_mode": {
    "name": "ipython",
    "version": 3
   },
   "file_extension": ".py",
   "mimetype": "text/x-python",
   "name": "python",
   "nbconvert_exporter": "python",
   "pygments_lexer": "ipython3",
   "version": "3.6.0"
  }
 },
 "nbformat": 4,
 "nbformat_minor": 2
}
